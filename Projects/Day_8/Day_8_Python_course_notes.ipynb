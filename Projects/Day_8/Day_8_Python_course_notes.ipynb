{
 "cells": [
  {
   "cell_type": "raw",
   "id": "521bb98e-17c6-425e-8b9e-c486587386b4",
   "metadata": {},
   "source": [
    "Paquetes de python"
   ]
  },
  {
   "cell_type": "code",
   "execution_count": null,
   "id": "81e53405-9ca3-4478-a07e-bea99d0422d4",
   "metadata": {},
   "outputs": [],
   "source": [
    "mi_paquete/\n",
    "├── mi_paquete/              # Directorio principal del paquete\n",
    "│   ├── __init__.py          # Hace que el directorio sea un paquete\n",
    "│   ├── modulo1.py           # Módulo 1 del paquete\n",
    "│   ├── modulo2.py           # Módulo 2 del paquete\n",
    "│   └── subpaquete/          # Subpaquete opcional\n",
    "│       ├── __init__.py\n",
    "│       └── submodulo.py\n",
    "├── tests/                   # Pruebas unitarias\n",
    "│   ├── __init__.py\n",
    "│   └── test_modulo1.py\n",
    "├── setup.py                 # Script de instalación del paquete\n",
    "├── pyproject.toml          # Configuración moderna del proyecto (recomendado)\n",
    "├── README.md               # Documentación del paquete\n",
    "├── LICENSE                 # Licencia del proyecto\n",
    "└── requirements.txt        # Dependencias necesarias"
   ]
  },
  {
   "cell_type": "raw",
   "id": "92ba4b59-5e5f-4886-b0a7-999f518f91de",
   "metadata": {},
   "source": [
    "Para revisar PEP-8 del archivo (analisis estatico)\n",
    "pylint <nombre del archivo> -r y"
   ]
  },
  {
   "cell_type": "raw",
   "id": "76e076fc-1851-4e1a-b82e-bcadfa227480",
   "metadata": {},
   "source": [
    "Decoradores"
   ]
  },
  {
   "cell_type": "code",
   "execution_count": 1,
   "id": "b52e5f45-f78c-4d42-9f6f-ec15398630a3",
   "metadata": {},
   "outputs": [
    {
     "name": "stdout",
     "output_type": "stream",
     "text": [
      "hola\n",
      "PYTHON\n",
      "adios\n"
     ]
    }
   ],
   "source": [
    "def decorar_saludo(funcion):\n",
    "\n",
    "    def otra_funcion(palabra):\n",
    "        print(\"hola\")\n",
    "        funcion(palabra)\n",
    "        print(\"adios\")\n",
    "    return otra_funcion\n",
    "\n",
    "@decorar_saludo\n",
    "def mayusculas(texto):\n",
    "    print(texto.upper())\n",
    "\n",
    "mayusculas(\"python\")"
   ]
  },
  {
   "cell_type": "code",
   "execution_count": null,
   "id": "b2be0ac4-e210-4041-a98a-ab8e42a58fc8",
   "metadata": {},
   "outputs": [],
   "source": [
    "Generadores"
   ]
  },
  {
   "cell_type": "code",
   "execution_count": 3,
   "id": "392e731d-f16f-4fa7-837f-c09cdc14dfad",
   "metadata": {},
   "outputs": [
    {
     "name": "stdout",
     "output_type": "stream",
     "text": [
      "7\n",
      "14\n",
      "21\n"
     ]
    }
   ],
   "source": [
    "def generador_numeros():\n",
    "    cont = 1 \n",
    "    while True:\n",
    "        yield cont * 7\n",
    "        cont += 1\n",
    "    \n",
    "\n",
    "generador = generador_numeros()\n",
    "\n",
    "print(next(generador))\n",
    "print(next(generador))\n",
    "print(next(generador))"
   ]
  },
  {
   "cell_type": "code",
   "execution_count": null,
   "id": "6f2a039c-8a78-4c3c-8e8f-933075ff4e3a",
   "metadata": {},
   "outputs": [],
   "source": []
  }
 ],
 "metadata": {
  "kernelspec": {
   "display_name": "Python 3 (ipykernel)",
   "language": "python",
   "name": "python3"
  },
  "language_info": {
   "codemirror_mode": {
    "name": "ipython",
    "version": 3
   },
   "file_extension": ".py",
   "mimetype": "text/x-python",
   "name": "python",
   "nbconvert_exporter": "python",
   "pygments_lexer": "ipython3",
   "version": "3.13.9"
  }
 },
 "nbformat": 4,
 "nbformat_minor": 5
}
